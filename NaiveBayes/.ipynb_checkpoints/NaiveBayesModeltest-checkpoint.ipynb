{
 "cells": [
  {
   "cell_type": "code",
   "execution_count": 1,
   "metadata": {
    "collapsed": true
   },
   "outputs": [],
   "source": [
    "import numpy as np\n",
    "import pandas as pd\n",
    "from collections import namedtuple\n",
    "from sklearn.metrics import confusion_matrix"
   ]
  },
  {
   "cell_type": "markdown",
   "metadata": {},
   "source": [
    "### CreateTable(col_n, series_in)\n",
    "\n",
    "    col_n: column name(selected feature)\n",
    "    series_in: pandas series\n",
    "    \n",
    "    f_table: naive bayes table for the selected feature\n",
    "\n",
    "#### Example:\n",
    "    small_table = CreateTable(\"Description\", theft[\"Description\"])"
   ]
  },
  {
   "cell_type": "code",
   "execution_count": 2,
   "metadata": {
    "collapsed": true
   },
   "outputs": [],
   "source": [
    "def CreateTable(col_n, series_in):\n",
    "    TupleStructure = namedtuple(col_n,[\"uniqType\",\"true_p\",\"false_p\"])\n",
    "    u_type = series_in.unique()\n",
    "\n",
    "    f_table = TupleStructure(\n",
    "              uniqType=np.asarray(u_type),\n",
    "              true_p=np.zeros(len(u_type)),\n",
    "              false_p=np.zeros(len(u_type))\n",
    "              )\n",
    "    return f_table"
   ]
  },
  {
   "cell_type": "markdown",
   "metadata": {},
   "source": [
    "### FillTable(i_type, series_in, series_t, truefalse=True)\n",
    "\n",
    "    i_type: a category in a feature\n",
    "    series_in: pandas series\n",
    "    series_t: target pandas series(in our case it's \"Arrest\")\n",
    "    truefalse: True or False.\n",
    "    \n",
    "    molecular/denominator: an array of conditional probability for each category in a feature\n",
    "    \n",
    "#### Example:\n",
    "    col_n = \"Description\"\n",
    "    tr_arr = list(map(lambda x: fillTable(x, theft[col_n], theft[target], True), theft[col_n].unique()))\n",
    "    fa_arr = list(map(lambda x: fillTable(x, theft[col_n], theft[target], False), theft[col_n].unique()))\n",
    "    small_table=small_table._replace(true_p=tr_arr)\n",
    "    small_table=small_table._replace(false_p=fa_arr)"
   ]
  },
  {
   "cell_type": "code",
   "execution_count": 3,
   "metadata": {
    "collapsed": true
   },
   "outputs": [],
   "source": [
    "def fillTable(i_type, series_in, series_t, truefalse=True):\n",
    "    index_in = np.where(series_in == i_type)\n",
    "    index_t = np.where(series_t == truefalse)\n",
    "    molecular = len(np.intersect1d(index_in[0], index_t[0]))+1\n",
    "    denominator = len(index_t[0])+len(series_in.unique())\n",
    "    return molecular/denominator"
   ]
  },
  {
   "cell_type": "code",
   "execution_count": 4,
   "metadata": {},
   "outputs": [],
   "source": [
    "def fillTableNorm(series, series_in, series_t, truefalse=True):\n",
    "    tb = series_in[(series_t == truefalse)&(series_in.notnull())&(series['distance']<100000)]\n",
    "    mean = np.mean(tb)\n",
    "    sd = np.std(tb)\n",
    "    return (mean,sd)"
   ]
  },
  {
   "cell_type": "code",
   "execution_count": 5,
   "metadata": {
    "collapsed": true
   },
   "outputs": [],
   "source": [
    "def LaplacianSmoothing(i_type, series_in, series_t, truefalse=True, k=0):\n",
    "    index_in = np.where(series_in == i_type)\n",
    "    index_t = np.where(series_t == truefalse)\n",
    "    molecular = len(np.intersect1d(index_in[0], index_t[0])) + k\n",
    "    denominator = len(index_t[0]) + k*len(series_in.unique())\n",
    "    return molecular/denominator"
   ]
  },
  {
   "cell_type": "markdown",
   "metadata": {},
   "source": [
    "### CalculateNaiveBayes(table, features, queries)\n",
    "    \n",
    "    table: a list of small tabel\n",
    "    features: an array of features (the order of the features should be the same as the table) \n",
    "    queries: a row of dataframe\n",
    "\n",
    "#### Example\n",
    "    features = ['LocationDescription', 'Description', 'Domestic', 'Hour', 'Ward']\n",
    "    answer = list(map(lambda x: CalculateNaiveBayes(big_table, features, theft_test.loc[x]), theft_test.index))"
   ]
  },
  {
   "cell_type": "code",
   "execution_count": 40,
   "metadata": {},
   "outputs": [],
   "source": [
    "def CalculateNaiveBayes(table, cts_table, features, ctsfeatures, queries):\n",
    "    i = 0\n",
    "    tp = 1\n",
    "    fp = 1\n",
    "    for f in features:\n",
    "        if not np.where(table[i].uniqType == queries[f])[0]:\n",
    "            tp = tp * 0.5\n",
    "            fp = fp * 0.5\n",
    "        else:\n",
    "            idx = int(np.where(table[i].uniqType == queries[f])[0])\n",
    "            tp = tp * list(table[i].true_p)[idx]\n",
    "            fp = fp * list(table[i].false_p)[idx]\n",
    "        i=i+1\n",
    "    for f in ctsfeatures:\n",
    "        if pd.isnull(queries[f]):\n",
    "            tp = tp * 0.5\n",
    "            fp = fp * 0.5\n",
    "        else:\n",
    "            tmean = cts_table[f]['tr_arr'][0]\n",
    "            tstd = cts_table[f]['tr_arr'][1]\n",
    "            fmean = cts_table[f]['fa_arr'][0]\n",
    "            fstd = cts_table[f]['fa_arr'][1]\n",
    "            tp = tp * np.exp(-(queries[f]-tmean)**2/(2*(tstd**2)))/np.sqrt(2*np.pi*(tstd**2))\n",
    "            fp = fp * np.exp(-(queries[f]-fmean)**2/(2*(fstd**2)))/np.sqrt(2*np.pi*(fstd**2))\n",
    "        \n",
    "    return tp > fp"
   ]
  },
  {
   "cell_type": "markdown",
   "metadata": {},
   "source": [
    "# Complete Example"
   ]
  },
  {
   "cell_type": "code",
   "execution_count": 7,
   "metadata": {},
   "outputs": [
    {
     "data": {
      "text/html": [
       "<div>\n",
       "<table border=\"1\" class=\"dataframe\">\n",
       "  <thead>\n",
       "    <tr style=\"text-align: right;\">\n",
       "      <th></th>\n",
       "      <th>Primary Type</th>\n",
       "      <th>Description</th>\n",
       "      <th>Location Description</th>\n",
       "      <th>Arrest</th>\n",
       "      <th>Domestic</th>\n",
       "      <th>Ward</th>\n",
       "      <th>Community Area</th>\n",
       "      <th>Year</th>\n",
       "      <th>Latitude</th>\n",
       "      <th>Longitude</th>\n",
       "      <th>distance</th>\n",
       "      <th>Month</th>\n",
       "      <th>Day</th>\n",
       "      <th>Hour</th>\n",
       "    </tr>\n",
       "    <tr>\n",
       "      <th>ID</th>\n",
       "      <th></th>\n",
       "      <th></th>\n",
       "      <th></th>\n",
       "      <th></th>\n",
       "      <th></th>\n",
       "      <th></th>\n",
       "      <th></th>\n",
       "      <th></th>\n",
       "      <th></th>\n",
       "      <th></th>\n",
       "      <th></th>\n",
       "      <th></th>\n",
       "      <th></th>\n",
       "      <th></th>\n",
       "    </tr>\n",
       "  </thead>\n",
       "  <tbody>\n",
       "    <tr>\n",
       "      <th>10404989</th>\n",
       "      <td>WEAPONS VIOLATION</td>\n",
       "      <td>UNLAWFUL POSS OF HANDGUN</td>\n",
       "      <td>STREET</td>\n",
       "      <td>True</td>\n",
       "      <td>False</td>\n",
       "      <td>28.0</td>\n",
       "      <td>25.0</td>\n",
       "      <td>2016</td>\n",
       "      <td>41.888659</td>\n",
       "      <td>-87.748942</td>\n",
       "      <td>0.001680</td>\n",
       "      <td>2</td>\n",
       "      <td>5</td>\n",
       "      <td>11</td>\n",
       "    </tr>\n",
       "    <tr>\n",
       "      <th>1928012</th>\n",
       "      <td>MOTOR VEHICLE THEFT</td>\n",
       "      <td>TRUCK, BUS, MOTOR HOME</td>\n",
       "      <td>OTHER COMMERCIAL TRANSPORTATION</td>\n",
       "      <td>False</td>\n",
       "      <td>False</td>\n",
       "      <td>NaN</td>\n",
       "      <td>NaN</td>\n",
       "      <td>2001</td>\n",
       "      <td>41.911495</td>\n",
       "      <td>-87.746059</td>\n",
       "      <td>0.009138</td>\n",
       "      <td>1</td>\n",
       "      <td>7</td>\n",
       "      <td>12</td>\n",
       "    </tr>\n",
       "    <tr>\n",
       "      <th>10404991</th>\n",
       "      <td>THEFT</td>\n",
       "      <td>$500 AND UNDER</td>\n",
       "      <td>OTHER</td>\n",
       "      <td>True</td>\n",
       "      <td>False</td>\n",
       "      <td>27.0</td>\n",
       "      <td>28.0</td>\n",
       "      <td>2016</td>\n",
       "      <td>41.877144</td>\n",
       "      <td>-87.647217</td>\n",
       "      <td>0.000968</td>\n",
       "      <td>2</td>\n",
       "      <td>5</td>\n",
       "      <td>12</td>\n",
       "    </tr>\n",
       "    <tr>\n",
       "      <th>10404994</th>\n",
       "      <td>NARCOTICS</td>\n",
       "      <td>POSS: HEROIN(BRN/TAN)</td>\n",
       "      <td>STREET</td>\n",
       "      <td>True</td>\n",
       "      <td>False</td>\n",
       "      <td>45.0</td>\n",
       "      <td>12.0</td>\n",
       "      <td>2016</td>\n",
       "      <td>41.978100</td>\n",
       "      <td>-87.755168</td>\n",
       "      <td>0.003541</td>\n",
       "      <td>2</td>\n",
       "      <td>5</td>\n",
       "      <td>11</td>\n",
       "    </tr>\n",
       "    <tr>\n",
       "      <th>1928017</th>\n",
       "      <td>DECEPTIVE PRACTICE</td>\n",
       "      <td>FORGERY</td>\n",
       "      <td>OTHER</td>\n",
       "      <td>False</td>\n",
       "      <td>False</td>\n",
       "      <td>NaN</td>\n",
       "      <td>NaN</td>\n",
       "      <td>2001</td>\n",
       "      <td>41.922596</td>\n",
       "      <td>-87.697101</td>\n",
       "      <td>0.009915</td>\n",
       "      <td>12</td>\n",
       "      <td>8</td>\n",
       "      <td>12</td>\n",
       "    </tr>\n",
       "  </tbody>\n",
       "</table>\n",
       "</div>"
      ],
      "text/plain": [
       "                 Primary Type               Description  \\\n",
       "ID                                                        \n",
       "10404989    WEAPONS VIOLATION  UNLAWFUL POSS OF HANDGUN   \n",
       "1928012   MOTOR VEHICLE THEFT    TRUCK, BUS, MOTOR HOME   \n",
       "10404991                THEFT            $500 AND UNDER   \n",
       "10404994            NARCOTICS     POSS: HEROIN(BRN/TAN)   \n",
       "1928017    DECEPTIVE PRACTICE                   FORGERY   \n",
       "\n",
       "                     Location Description Arrest Domestic  Ward  \\\n",
       "ID                                                                \n",
       "10404989                           STREET   True    False  28.0   \n",
       "1928012   OTHER COMMERCIAL TRANSPORTATION  False    False   NaN   \n",
       "10404991                            OTHER   True    False  27.0   \n",
       "10404994                           STREET   True    False  45.0   \n",
       "1928017                             OTHER  False    False   NaN   \n",
       "\n",
       "          Community Area  Year   Latitude  Longitude  distance  Month  Day  \\\n",
       "ID                                                                           \n",
       "10404989            25.0  2016  41.888659 -87.748942  0.001680      2    5   \n",
       "1928012              NaN  2001  41.911495 -87.746059  0.009138      1    7   \n",
       "10404991            28.0  2016  41.877144 -87.647217  0.000968      2    5   \n",
       "10404994            12.0  2016  41.978100 -87.755168  0.003541      2    5   \n",
       "1928017              NaN  2001  41.922596 -87.697101  0.009915     12    8   \n",
       "\n",
       "          Hour  \n",
       "ID              \n",
       "10404989    11  \n",
       "1928012     12  \n",
       "10404991    12  \n",
       "10404994    11  \n",
       "1928017     12  "
      ]
     },
     "execution_count": 7,
     "metadata": {},
     "output_type": "execute_result"
    }
   ],
   "source": [
    "data = pd.DataFrame.from_csv(\"test.csv\")\n",
    "data.head()"
   ]
  },
  {
   "cell_type": "code",
   "execution_count": 8,
   "metadata": {},
   "outputs": [
    {
     "data": {
      "text/html": [
       "<div>\n",
       "<table border=\"1\" class=\"dataframe\">\n",
       "  <thead>\n",
       "    <tr style=\"text-align: right;\">\n",
       "      <th></th>\n",
       "      <th>Primary Type</th>\n",
       "      <th>Description</th>\n",
       "      <th>Location Description</th>\n",
       "      <th>Arrest</th>\n",
       "      <th>Domestic</th>\n",
       "      <th>Ward</th>\n",
       "      <th>Community Area</th>\n",
       "      <th>Year</th>\n",
       "      <th>Latitude</th>\n",
       "      <th>Longitude</th>\n",
       "      <th>distance</th>\n",
       "      <th>Month</th>\n",
       "      <th>Day</th>\n",
       "      <th>Hour</th>\n",
       "    </tr>\n",
       "    <tr>\n",
       "      <th>ID</th>\n",
       "      <th></th>\n",
       "      <th></th>\n",
       "      <th></th>\n",
       "      <th></th>\n",
       "      <th></th>\n",
       "      <th></th>\n",
       "      <th></th>\n",
       "      <th></th>\n",
       "      <th></th>\n",
       "      <th></th>\n",
       "      <th></th>\n",
       "      <th></th>\n",
       "      <th></th>\n",
       "      <th></th>\n",
       "    </tr>\n",
       "  </thead>\n",
       "  <tbody>\n",
       "    <tr>\n",
       "      <th>10404991</th>\n",
       "      <td>THEFT</td>\n",
       "      <td>$500 AND UNDER</td>\n",
       "      <td>OTHER</td>\n",
       "      <td>True</td>\n",
       "      <td>False</td>\n",
       "      <td>27.0</td>\n",
       "      <td>28.0</td>\n",
       "      <td>2016</td>\n",
       "      <td>41.877144</td>\n",
       "      <td>-87.647217</td>\n",
       "      <td>0.000968</td>\n",
       "      <td>2</td>\n",
       "      <td>5</td>\n",
       "      <td>12</td>\n",
       "    </tr>\n",
       "    <tr>\n",
       "      <th>10405000</th>\n",
       "      <td>THEFT</td>\n",
       "      <td>$500 AND UNDER</td>\n",
       "      <td>SIDEWALK</td>\n",
       "      <td>False</td>\n",
       "      <td>False</td>\n",
       "      <td>3.0</td>\n",
       "      <td>35.0</td>\n",
       "      <td>2016</td>\n",
       "      <td>41.830751</td>\n",
       "      <td>-87.626644</td>\n",
       "      <td>0.001785</td>\n",
       "      <td>2</td>\n",
       "      <td>5</td>\n",
       "      <td>14</td>\n",
       "    </tr>\n",
       "    <tr>\n",
       "      <th>10405001</th>\n",
       "      <td>THEFT</td>\n",
       "      <td>RETAIL THEFT</td>\n",
       "      <td>SMALL RETAIL STORE</td>\n",
       "      <td>False</td>\n",
       "      <td>False</td>\n",
       "      <td>46.0</td>\n",
       "      <td>3.0</td>\n",
       "      <td>2016</td>\n",
       "      <td>41.963009</td>\n",
       "      <td>-87.654760</td>\n",
       "      <td>0.006080</td>\n",
       "      <td>2</td>\n",
       "      <td>5</td>\n",
       "      <td>14</td>\n",
       "    </tr>\n",
       "    <tr>\n",
       "      <th>10405007</th>\n",
       "      <td>THEFT</td>\n",
       "      <td>RETAIL THEFT</td>\n",
       "      <td>GAS STATION</td>\n",
       "      <td>True</td>\n",
       "      <td>False</td>\n",
       "      <td>9.0</td>\n",
       "      <td>49.0</td>\n",
       "      <td>2016</td>\n",
       "      <td>41.707095</td>\n",
       "      <td>-87.628834</td>\n",
       "      <td>0.002150</td>\n",
       "      <td>2</td>\n",
       "      <td>5</td>\n",
       "      <td>13</td>\n",
       "    </tr>\n",
       "    <tr>\n",
       "      <th>10405013</th>\n",
       "      <td>THEFT</td>\n",
       "      <td>FROM BUILDING</td>\n",
       "      <td>BANK</td>\n",
       "      <td>False</td>\n",
       "      <td>False</td>\n",
       "      <td>42.0</td>\n",
       "      <td>32.0</td>\n",
       "      <td>2016</td>\n",
       "      <td>41.886440</td>\n",
       "      <td>-87.632468</td>\n",
       "      <td>0.001041</td>\n",
       "      <td>2</td>\n",
       "      <td>5</td>\n",
       "      <td>13</td>\n",
       "    </tr>\n",
       "  </tbody>\n",
       "</table>\n",
       "</div>"
      ],
      "text/plain": [
       "         Primary Type     Description Location Description Arrest Domestic  \\\n",
       "ID                                                                           \n",
       "10404991        THEFT  $500 AND UNDER                OTHER   True    False   \n",
       "10405000        THEFT  $500 AND UNDER             SIDEWALK  False    False   \n",
       "10405001        THEFT    RETAIL THEFT   SMALL RETAIL STORE  False    False   \n",
       "10405007        THEFT    RETAIL THEFT          GAS STATION   True    False   \n",
       "10405013        THEFT   FROM BUILDING                 BANK  False    False   \n",
       "\n",
       "          Ward  Community Area  Year   Latitude  Longitude  distance  Month  \\\n",
       "ID                                                                            \n",
       "10404991  27.0            28.0  2016  41.877144 -87.647217  0.000968      2   \n",
       "10405000   3.0            35.0  2016  41.830751 -87.626644  0.001785      2   \n",
       "10405001  46.0             3.0  2016  41.963009 -87.654760  0.006080      2   \n",
       "10405007   9.0            49.0  2016  41.707095 -87.628834  0.002150      2   \n",
       "10405013  42.0            32.0  2016  41.886440 -87.632468  0.001041      2   \n",
       "\n",
       "          Day  Hour  \n",
       "ID                   \n",
       "10404991    5    12  \n",
       "10405000    5    14  \n",
       "10405001    5    14  \n",
       "10405007    5    13  \n",
       "10405013    5    13  "
      ]
     },
     "execution_count": 8,
     "metadata": {},
     "output_type": "execute_result"
    }
   ],
   "source": [
    "theft = data[data['Primary Type']==\"THEFT\"]\n",
    "theft.head()"
   ]
  },
  {
   "cell_type": "code",
   "execution_count": 9,
   "metadata": {
    "collapsed": true
   },
   "outputs": [],
   "source": [
    "#remove blank in column name\n",
    "theft = theft.rename(columns={\"Location Description\": \"LocationDescription\"})\n",
    "theft_test = theft[theft['Year']==2017]\n",
    "theft = theft[theft['Year'] < 2017]"
   ]
  },
  {
   "cell_type": "code",
   "execution_count": 10,
   "metadata": {},
   "outputs": [],
   "source": [
    "big_table = []\n",
    "\n",
    "target = \"Arrest\"\n",
    "features = ['LocationDescription', 'Description', 'Domestic', 'Hour', 'Ward']\n",
    "\n",
    "# Use np.where(condition) to look for indice\n",
    "for col_n in features:\n",
    "    small_table = CreateTable(col_n, theft[col_n])\n",
    "    tr_arr = list(map(lambda x: fillTable(x, theft[col_n], theft[target], True), theft[col_n].unique()))\n",
    "    fa_arr = list(map(lambda x: fillTable(x, theft[col_n], theft[target], False), theft[col_n].unique()))\n",
    "    small_table=small_table._replace(true_p=tr_arr)\n",
    "    small_table=small_table._replace(false_p=fa_arr)\n",
    "    #small_table.true_p = \n",
    "    #small_table.false_p = \n",
    "    big_table.append(small_table)\n",
    "    \n"
   ]
  },
  {
   "cell_type": "code",
   "execution_count": 11,
   "metadata": {},
   "outputs": [],
   "source": [
    "cts_table ={}\n",
    "ctsfeatures = ['distance','Latitude','Longitude']\n",
    "for col_n in ctsfeatures:\n",
    "    cts_table[col_n] = {}\n",
    "    cts_table[col_n]['tr_arr'] = fillTableNorm(theft, theft[col_n], theft[target], True)\n",
    "    cts_table[col_n]['fa_arr'] = fillTableNorm(theft, theft[col_n], theft[target], False)\n"
   ]
  },
  {
   "cell_type": "code",
   "execution_count": 14,
   "metadata": {},
   "outputs": [],
   "source": [
    "answer = list(map(lambda x: CalculateNaiveBayes(big_table, cts_table, features, ctsfeatures, theft_test.loc[x]), theft_test.index))"
   ]
  },
  {
   "cell_type": "code",
   "execution_count": 15,
   "metadata": {},
   "outputs": [
    {
     "name": "stdout",
     "output_type": "stream",
     "text": [
      "AC:  0.8763594733829422\n"
     ]
    },
    {
     "data": {
      "text/plain": [
       "array([[ 1260,   219],\n",
       "       [ 1509, 10988]])"
      ]
     },
     "execution_count": 15,
     "metadata": {},
     "output_type": "execute_result"
    }
   ],
   "source": [
    "print(\"AC: \",len(np.where(theft_test['Arrest']==answer)[0])/len(theft_test))\n",
    "confusion_matrix(theft_test['Arrest'], answer,labels=[True, False])"
   ]
  },
  {
   "cell_type": "code",
   "execution_count": 16,
   "metadata": {},
   "outputs": [
    {
     "name": "stdout",
     "output_type": "stream",
     "text": [
      "AC:  0.894175729822553\n"
     ]
    },
    {
     "data": {
      "text/plain": [
       "array([[    0,  1479],\n",
       "       [    0, 12497]])"
      ]
     },
     "execution_count": 16,
     "metadata": {},
     "output_type": "execute_result"
    }
   ],
   "source": [
    "print(\"AC: \",len(np.where(theft_test['Arrest']==False)[0])/len(theft_test))\n",
    "confusion_matrix(theft_test['Arrest'], [False]*len(theft_test['Arrest']),labels=[True, False])"
   ]
  },
  {
   "cell_type": "code",
   "execution_count": 17,
   "metadata": {},
   "outputs": [
    {
     "name": "stdout",
     "output_type": "stream",
     "text": [
      "AC after smoothing:  0.8760017172295363\n"
     ]
    },
    {
     "data": {
      "text/plain": [
       "array([[ 1260,   219],\n",
       "       [ 1514, 10983]])"
      ]
     },
     "execution_count": 17,
     "metadata": {},
     "output_type": "execute_result"
    }
   ],
   "source": [
    "big_table = []\n",
    "\n",
    "target = \"Arrest\"\n",
    "features = ['LocationDescription', 'Description', 'Domestic', 'Hour', 'Ward']\n",
    "# Use np.where(condition) to look for indice\n",
    "for col_n in features:\n",
    "    small_table = CreateTable(col_n, theft[col_n])\n",
    "    tr_arr = list(map(lambda x: LaplacianSmoothing(x, theft[col_n], theft[target], True, k=5), theft[col_n].unique()))\n",
    "    fa_arr = list(map(lambda x: LaplacianSmoothing(x, theft[col_n], theft[target], False, k=5), theft[col_n].unique()))\n",
    "    small_table=small_table._replace(true_p=tr_arr)\n",
    "    small_table=small_table._replace(false_p=fa_arr)\n",
    "    big_table.append(small_table)\n",
    "    \n",
    "answer =  list(map(lambda x: CalculateNaiveBayes(big_table, cts_table, features, ctsfeatures, theft_test.loc[x]), theft_test.index))\n",
    "\n",
    "print(\"AC after smoothing: \",len(np.where(theft_test['Arrest']==answer)[0])/len(theft_test))\n",
    "confusion_matrix(theft_test['Arrest'], answer,labels=[True, False])"
   ]
  },
  {
   "cell_type": "code",
   "execution_count": 18,
   "metadata": {},
   "outputs": [],
   "source": [
    "data = data.rename(columns={\"Location Description\": \"LocationDescription\"})\n",
    "data_test = data[data['Year']==2017]\n",
    "data1 = data[data['Year'] < 2017]\n",
    "big_table = []\n",
    "\n",
    "target = \"Arrest\"\n",
    "features = ['LocationDescription', 'Description', 'Domestic', 'Hour', 'Ward']\n",
    "\n",
    "# Use np.where(condition) to look for indice\n",
    "for col_n in features:\n",
    "    small_table = CreateTable(col_n, data1[col_n])\n",
    "    tr_arr = list(map(lambda x: fillTable(x, data1[col_n], data1[target], True), data1[col_n].unique()))\n",
    "    fa_arr = list(map(lambda x: fillTable(x, data1[col_n], data1[target], False), data1[col_n].unique()))\n",
    "    small_table=small_table._replace(true_p=tr_arr)\n",
    "    small_table=small_table._replace(false_p=fa_arr)\n",
    "    #small_table.true_p = \n",
    "    #small_table.false_p = \n",
    "    big_table.append(small_table)\n",
    "\n",
    "cts_table ={}\n",
    "ctsfeatures = ['distance','Latitude','Longitude']\n",
    "for col_n in ctsfeatures:\n",
    "    cts_table[col_n] = {}\n",
    "    cts_table[col_n]['tr_arr'] = fillTableNorm(data1, data1[col_n], data1[target], True)\n",
    "    cts_table[col_n]['fa_arr'] = fillTableNorm(data1, data1[col_n], data1[target], False)"
   ]
  },
  {
   "cell_type": "code",
   "execution_count": 41,
   "metadata": {},
   "outputs": [
    {
     "name": "stdout",
     "output_type": "stream",
     "text": [
      "AC:  0.8429452658376579\n",
      "[[ 7652  4078]\n",
      " [ 5546 44002]]\n",
      "AC:  0.8085773034367962\n",
      "[[    0 11730]\n",
      " [    0 49548]]\n"
     ]
    }
   ],
   "source": [
    "answer = list(map(lambda x: CalculateNaiveBayes(big_table, cts_table, features, ctsfeatures, data_test.loc[x]), data_test.index))  \n",
    "\n",
    "print(\"AC: \",len(np.where(data_test['Arrest']==answer)[0])/len(data_test))\n",
    "print(confusion_matrix(data_test['Arrest'], answer,labels=[True, False]))\n",
    "\n",
    "print(\"AC: \",len(np.where(data_test['Arrest']==False)[0])/len(data_test))\n",
    "print(confusion_matrix(data_test['Arrest'], [False]*len(data_test['Arrest']),labels=[True, False]))"
   ]
  },
  {
   "cell_type": "code",
   "execution_count": null,
   "metadata": {
    "collapsed": true
   },
   "outputs": [],
   "source": [
    "data = data.rename(columns={\"Location Description\": \"LocationDescription\"})\n",
    "data_test = data[data['Year']==2017]\n",
    "data1 = data[data['Year'] < 2017]\n",
    "big_table = []\n",
    "\n",
    "target = \"Arrest\"\n",
    "features = ['LocationDescription', 'Description', 'Domestic', 'Hour', 'Ward']\n",
    "\n",
    "# Use np.where(condition) to look for indice\n",
    "for col_n in features:\n",
    "    small_table = CreateTable(col_n, data1[col_n])\n",
    "    tr_arr = list(map(lambda x: fillTable(x, data1[col_n], data1[target], True), data1[col_n].unique()))\n",
    "    fa_arr = list(map(lambda x: fillTable(x, data1[col_n], data1[target], False), data1[col_n].unique()))\n",
    "    small_table=small_table._replace(true_p=tr_arr)\n",
    "    small_table=small_table._replace(false_p=fa_arr)\n",
    "    #small_table.true_p = \n",
    "    #small_table.false_p = \n",
    "    big_table.append(small_table)"
   ]
  },
  {
   "cell_type": "code",
   "execution_count": 42,
   "metadata": {
    "collapsed": true
   },
   "outputs": [],
   "source": [
    "cts_table ={}\n",
    "ctsfeatures = ['distance']\n",
    "for col_n in ctsfeatures:\n",
    "    cts_table[col_n] = {}\n",
    "    cts_table[col_n]['tr_arr'] = fillTableNorm(data1, data1[col_n], data1[target], True)\n",
    "    cts_table[col_n]['fa_arr'] = fillTableNorm(data1, data1[col_n], data1[target], False)"
   ]
  },
  {
   "cell_type": "code",
   "execution_count": 43,
   "metadata": {},
   "outputs": [
    {
     "name": "stdout",
     "output_type": "stream",
     "text": [
      "AC:  0.8440712816997944\n",
      "[[ 7645  4085]\n",
      " [ 5470 44078]]\n",
      "AC:  0.8085773034367962\n",
      "[[    0 11730]\n",
      " [    0 49548]]\n"
     ]
    }
   ],
   "source": [
    "answer = list(map(lambda x: CalculateNaiveBayes(big_table, cts_table, features, ctsfeatures, data_test.loc[x]), data_test.index))  \n",
    "\n",
    "print(\"AC: \",len(np.where(data_test['Arrest']==answer)[0])/len(data_test))\n",
    "print(confusion_matrix(data_test['Arrest'], answer,labels=[True, False]))\n",
    "\n",
    "print(\"AC: \",len(np.where(data_test['Arrest']==False)[0])/len(data_test))\n",
    "print(confusion_matrix(data_test['Arrest'], [False]*len(data_test['Arrest']),labels=[True, False]))"
   ]
  },
  {
   "cell_type": "code",
   "execution_count": 44,
   "metadata": {
    "collapsed": true
   },
   "outputs": [],
   "source": [
    "cts_table ={}\n",
    "ctsfeatures = []\n",
    "for col_n in ctsfeatures:\n",
    "    cts_table[col_n] = {}\n",
    "    cts_table[col_n]['tr_arr'] = fillTableNorm(data1, data1[col_n], data1[target], True)\n",
    "    cts_table[col_n]['fa_arr'] = fillTableNorm(data1, data1[col_n], data1[target], False)"
   ]
  },
  {
   "cell_type": "code",
   "execution_count": 45,
   "metadata": {},
   "outputs": [
    {
     "name": "stdout",
     "output_type": "stream",
     "text": [
      "AC:  0.8453931264075198\n",
      "[[ 7636  4094]\n",
      " [ 5380 44168]]\n",
      "AC:  0.8085773034367962\n",
      "[[    0 11730]\n",
      " [    0 49548]]\n"
     ]
    }
   ],
   "source": [
    "answer = list(map(lambda x: CalculateNaiveBayes(big_table, cts_table, features, ctsfeatures, data_test.loc[x]), data_test.index))  \n",
    "\n",
    "print(\"AC: \",len(np.where(data_test['Arrest']==answer)[0])/len(data_test))\n",
    "print(confusion_matrix(data_test['Arrest'], answer,labels=[True, False]))\n",
    "\n",
    "print(\"AC: \",len(np.where(data_test['Arrest']==False)[0])/len(data_test))\n",
    "print(confusion_matrix(data_test['Arrest'], [False]*len(data_test['Arrest']),labels=[True, False]))"
   ]
  },
  {
   "cell_type": "code",
   "execution_count": null,
   "metadata": {
    "collapsed": true
   },
   "outputs": [],
   "source": []
  }
 ],
 "metadata": {
  "kernelspec": {
   "display_name": "Python 3",
   "language": "python",
   "name": "python3"
  },
  "language_info": {
   "codemirror_mode": {
    "name": "ipython",
    "version": 3
   },
   "file_extension": ".py",
   "mimetype": "text/x-python",
   "name": "python",
   "nbconvert_exporter": "python",
   "pygments_lexer": "ipython3",
   "version": "3.6.0"
  }
 },
 "nbformat": 4,
 "nbformat_minor": 2
}
