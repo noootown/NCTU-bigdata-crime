{
 "cells": [
  {
   "cell_type": "code",
   "execution_count": 1,
   "metadata": {
    "collapsed": true
   },
   "outputs": [],
   "source": [
    "import pandas as pd\n",
    "import numpy as np\n",
    "from sklearn.metrics import confusion_matrix"
   ]
  },
  {
   "cell_type": "markdown",
   "metadata": {},
   "source": [
    "## 資料讀取\n",
    "讀入原方法之：\n",
    "* accuracy\n",
    "* prediction\n",
    "以及原資料之真實結果"
   ]
  },
  {
   "cell_type": "code",
   "execution_count": 2,
   "metadata": {
    "collapsed": false,
    "scrolled": true
   },
   "outputs": [],
   "source": [
    "import pickle\n",
    "PIK = 'Answer.dat'\n",
    "with open(PIK, 'rb') as f:\n",
    "    file = pickle.load(f)"
   ]
  },
  {
   "cell_type": "code",
   "execution_count": 3,
   "metadata": {
    "collapsed": true
   },
   "outputs": [],
   "source": [
    "PIK = 'testAnswer.dat'\n",
    "with open(PIK, 'rb') as f:\n",
    "    testfile = pickle.load(f)\n"
   ]
  },
  {
   "cell_type": "code",
   "execution_count": 4,
   "metadata": {
    "collapsed": false
   },
   "outputs": [
    {
     "name": "stdout",
     "output_type": "stream",
     "text": [
      "Original Length:  6305988\n",
      "Dropna Length:  5621365\n"
     ]
    },
    {
     "data": {
      "text/html": [
       "<div>\n",
       "<table border=\"1\" class=\"dataframe\">\n",
       "  <thead>\n",
       "    <tr style=\"text-align: right;\">\n",
       "      <th></th>\n",
       "      <th>Primary Type</th>\n",
       "      <th>Description</th>\n",
       "      <th>Location Description</th>\n",
       "      <th>Arrest</th>\n",
       "      <th>Domestic</th>\n",
       "      <th>Ward</th>\n",
       "      <th>Community Area</th>\n",
       "      <th>Year</th>\n",
       "      <th>Latitude</th>\n",
       "      <th>Longitude</th>\n",
       "      <th>distance</th>\n",
       "      <th>Month</th>\n",
       "      <th>Day</th>\n",
       "      <th>Hour</th>\n",
       "    </tr>\n",
       "    <tr>\n",
       "      <th>ID</th>\n",
       "      <th></th>\n",
       "      <th></th>\n",
       "      <th></th>\n",
       "      <th></th>\n",
       "      <th></th>\n",
       "      <th></th>\n",
       "      <th></th>\n",
       "      <th></th>\n",
       "      <th></th>\n",
       "      <th></th>\n",
       "      <th></th>\n",
       "      <th></th>\n",
       "      <th></th>\n",
       "      <th></th>\n",
       "    </tr>\n",
       "  </thead>\n",
       "  <tbody>\n",
       "    <tr>\n",
       "      <th>10404989</th>\n",
       "      <td>WEAPONS VIOLATION</td>\n",
       "      <td>UNLAWFUL POSS OF HANDGUN</td>\n",
       "      <td>STREET</td>\n",
       "      <td>True</td>\n",
       "      <td>False</td>\n",
       "      <td>28.0</td>\n",
       "      <td>25.0</td>\n",
       "      <td>2016</td>\n",
       "      <td>41.888659</td>\n",
       "      <td>-87.748942</td>\n",
       "      <td>0.00168</td>\n",
       "      <td>2</td>\n",
       "      <td>5</td>\n",
       "      <td>11</td>\n",
       "    </tr>\n",
       "  </tbody>\n",
       "</table>\n",
       "</div>"
      ],
      "text/plain": [
       "               Primary Type               Description Location Description  \\\n",
       "ID                                                                           \n",
       "10404989  WEAPONS VIOLATION  UNLAWFUL POSS OF HANDGUN               STREET   \n",
       "\n",
       "         Arrest Domestic  Ward  Community Area  Year   Latitude  Longitude  \\\n",
       "ID                                                                           \n",
       "10404989   True    False  28.0            25.0  2016  41.888659 -87.748942   \n",
       "\n",
       "          distance  Month  Day  Hour  \n",
       "ID                                    \n",
       "10404989   0.00168      2    5    11  "
      ]
     },
     "execution_count": 4,
     "metadata": {},
     "output_type": "execute_result"
    }
   ],
   "source": [
    "data = pd.DataFrame.from_csv(\"test.csv\")\n",
    "print(\"Original Length: \", len(data))\n",
    "data = data.dropna(axis=0)\n",
    "print(\"Dropna Length: \", len(data))\n",
    "data.head(1)"
   ]
  },
  {
   "cell_type": "code",
   "execution_count": 5,
   "metadata": {
    "collapsed": false
   },
   "outputs": [
    {
     "name": "stdout",
     "output_type": "stream",
     "text": [
      "Cut off outliers: 5602755\n"
     ]
    }
   ],
   "source": [
    "#Cut off outliers\n",
    "data = data[data['Latitude'] > 41.644]\n",
    "data = data[data['Latitude'] < 42.020]\n",
    "data = data[data['Longitude'] > -87.940]\n",
    "data = data[data['Longitude'] < -87.521]\n",
    "data = data[data['distance'] < 100000]\n",
    "print(\"Cut off outliers:\", len(data))"
   ]
  },
  {
   "cell_type": "code",
   "execution_count": 6,
   "metadata": {
    "collapsed": true
   },
   "outputs": [],
   "source": [
    "data = data.rename(columns={\"Location Description\": \"LocationDescription\"})\n",
    "data = data.rename(columns={\"Primary Type\": \"PrimaryType\"})\n",
    "data_test = data[data['Year']==2017]\n",
    "data1 = data[data['Year'] < 2017]"
   ]
  },
  {
   "cell_type": "markdown",
   "metadata": {},
   "source": [
    "## adaboost\n",
    "對accuracy做adaboost  \n",
    "挑出分類效果夠好的\"Primary Type\"和\"Description\"  \n",
    "以及去除分類效果最差的\"Domestic\"  \n",
    "得到個欄位的權重"
   ]
  },
  {
   "cell_type": "code",
   "execution_count": 7,
   "metadata": {
    "collapsed": false
   },
   "outputs": [
    {
     "name": "stdout",
     "output_type": "stream",
     "text": [
      "6\n",
      "9\n",
      "7\n",
      "9\n",
      "[0.0, 0.0, 0.17854670738750478, 0.0, 0.20575879913772321, 0.14802665333947249, -0.23353065084026622, -0.10704361143559446, -0.07358669172533297]\n"
     ]
    }
   ],
   "source": [
    "train = data1['Arrest']\n",
    "eps = []\n",
    "alpha = []\n",
    "D = []\n",
    "D.append([1.0/len(file[0])]*len(file[0]))\n",
    "count=-1\n",
    "for case in file:\n",
    "    count=count+1\n",
    "    if not count in [2,4,5,6,7,8]:\n",
    "        alpha.append(0.0)\n",
    "        continue\n",
    "    index_e = np.where(train != case)[0]\n",
    "    index_c = np.where(train == case)[0]\n",
    "    eps.append(0)\n",
    "    for i in index_e:\n",
    "        eps[-1]=eps[-1]+D[-1][int(i)]\n",
    "    alpha.append(0.5*np.log((1-eps[-1])/eps[-1]))\n",
    "    D.append(D[-1])\n",
    "    for i in index_e:\n",
    "        D[-1][int(i)] = D[-1][int(i)]*np.exp(alpha[-1])\n",
    "    for i in index_c:\n",
    "        D[-1][int(i)] = D[-1][int(i)]*np.exp(-alpha[-1])\n",
    "    D[-1] = D[-1]/sum(D[-1])\n",
    "    \n",
    "print(len(eps))\n",
    "print(len(alpha))\n",
    "print(len(D))\n",
    "print(len(file))\n",
    "print(alpha)"
   ]
  },
  {
   "cell_type": "markdown",
   "metadata": {},
   "source": [
    "## 將原類別結果改寫成數值狀態"
   ]
  },
  {
   "cell_type": "code",
   "execution_count": 8,
   "metadata": {
    "collapsed": false
   },
   "outputs": [],
   "source": [
    "for col in range(len(testfile)):\n",
    "    for row in range(len(testfile[col])):\n",
    "        if testfile[col][row]:\n",
    "            testfile[col][row]=1.0\n",
    "        else:\n",
    "            testfile[col][row]=-1.0"
   ]
  },
  {
   "cell_type": "code",
   "execution_count": 9,
   "metadata": {
    "collapsed": true
   },
   "outputs": [],
   "source": [
    "for col in range(len(file)):\n",
    "    for row in range(len(file[col])):\n",
    "        if file[col][row]:\n",
    "            file[col][row]=1.0\n",
    "        else:\n",
    "            file[col][row]=-1.0"
   ]
  },
  {
   "cell_type": "markdown",
   "metadata": {},
   "source": [
    "## 代入權重\n",
    "各欄位結果加權後的總合  \n",
    "大於0視為True  \n",
    "小於等於0視作False\n",
    "計算新的accuracy"
   ]
  },
  {
   "cell_type": "code",
   "execution_count": 10,
   "metadata": {
    "collapsed": false
   },
   "outputs": [
    {
     "name": "stdout",
     "output_type": "stream",
     "text": [
      "AC:  0.6657088946871167\n",
      "[[ 587172  980623]\n",
      " [ 872377 3102901]]\n"
     ]
    }
   ],
   "source": [
    "adaboost_train = [0.0]*len(train)\n",
    "for i in range(len(file)):\n",
    "    for j in range(len(file[i])):\n",
    "        adaboost_train[j]= adaboost_train[j]+file[i][j]*alpha[i]\n",
    "for i in range(len(adaboost_train)):\n",
    "    if adaboost_train[i]<=0:\n",
    "        adaboost_train[i] = False\n",
    "    else:\n",
    "        adaboost_train[i] = True\n",
    "print(\"AC: \",len(np.where(adaboost_train==train)[0])/len(train))\n",
    "print(confusion_matrix(train, adaboost_train,labels=[True, False]))"
   ]
  },
  {
   "cell_type": "markdown",
   "metadata": {},
   "source": [
    "同樣對prediction操作得到新的預測"
   ]
  },
  {
   "cell_type": "code",
   "execution_count": 13,
   "metadata": {
    "collapsed": false
   },
   "outputs": [
    {
     "name": "stdout",
     "output_type": "stream",
     "text": [
      "AC:  0.7112864850373647\n",
      "[[ 3823  7843]\n",
      " [ 9388 38628]]\n"
     ]
    }
   ],
   "source": [
    "adaboost_ans = [0.0]*len(testfile[0])\n",
    "for i in range(len(testfile)):\n",
    "    for j in range(len(testfile[i])):\n",
    "        adaboost_ans[j]= adaboost_ans[j]+testfile[i][j]*alpha[i]\n",
    "for i in range(len(adaboost_ans)):\n",
    "    if adaboost_ans[i]<=0:\n",
    "        adaboost_ans[i] = False\n",
    "    else:\n",
    "        adaboost_ans[i] = True\n",
    "print(\"AC: \",len(np.where(adaboost_ans==test)[0])/len(test))\n",
    "print(confusion_matrix(test, adaboost_ans,labels=[True, False]))"
   ]
  },
  {
   "cell_type": "markdown",
   "metadata": {},
   "source": [
    "## voting base method"
   ]
  },
  {
   "cell_type": "markdown",
   "metadata": {},
   "source": [
    "將新的accuracy和原accuracy高的欄位  \n",
    "依權重加權投票   \n",
    "計算最後accuracy  "
   ]
  },
  {
   "cell_type": "code",
   "execution_count": 16,
   "metadata": {
    "collapsed": false
   },
   "outputs": [
    {
     "name": "stdout",
     "output_type": "stream",
     "text": [
      "AC:  0.8774672430548575\n",
      "[[ 5976  5690]\n",
      " [ 1623 46393]]\n"
     ]
    }
   ],
   "source": [
    "adbv =[]\n",
    "for item in adaboost_ans:\n",
    "    if item:\n",
    "        adbv.append(1.0)\n",
    "    else:\n",
    "        adbv.append(-1.0)\n",
    "        \n",
    "ensemble = [0.0]*len(adbv)\n",
    "for i in range(len(ensemble)):\n",
    "    ensemble[i] = adbv[i]*0.66571+testfile[0][i]*0.87050+testfile[1][i]*0.86964\n",
    "    if ensemble[i] <= 0:\n",
    "        ensemble[i] = False\n",
    "    else:\n",
    "        ensemble[i] = True\n",
    "print(\"AC: \",len(np.where(ensemble==test)[0])/len(test))\n",
    "print(confusion_matrix(test, ensemble,labels=[True, False]))"
   ]
  },
  {
   "cell_type": "markdown",
   "metadata": {},
   "source": [
    "總結所有方法所得到的預測結果"
   ]
  },
  {
   "cell_type": "code",
   "execution_count": 17,
   "metadata": {
    "collapsed": false
   },
   "outputs": [
    {
     "name": "stdout",
     "output_type": "stream",
     "text": [
      "AC:  0.869820765485138\n",
      "[[ 959669  608126]\n",
      " [ 113467 3861811]]\n"
     ]
    }
   ],
   "source": [
    "adbv =[]\n",
    "for item in adaboost_train:\n",
    "    if item:\n",
    "        adbv.append(1.0)\n",
    "    else:\n",
    "        adbv.append(-1.0)\n",
    "        \n",
    "ensemble = [0.0]*len(adbv)\n",
    "for i in range(len(ensemble)):\n",
    "    ensemble[i] = adbv[i]*0.66571+file[0][i]*0.87050+file[1][i]*0.86964\n",
    "    if ensemble[i] <= 0:\n",
    "        ensemble[i] = False\n",
    "    else:\n",
    "        ensemble[i] = True\n",
    "print(\"AC: \",len(np.where(ensemble==train)[0])/len(train))\n",
    "print(confusion_matrix(train, ensemble,labels=[True, False]))"
   ]
  }
 ],
 "metadata": {
  "kernelspec": {
   "display_name": "Python 3",
   "language": "python",
   "name": "python3"
  },
  "language_info": {
   "codemirror_mode": {
    "name": "ipython",
    "version": 3
   },
   "file_extension": ".py",
   "mimetype": "text/x-python",
   "name": "python",
   "nbconvert_exporter": "python",
   "pygments_lexer": "ipython3",
   "version": "3.5.2"
  }
 },
 "nbformat": 4,
 "nbformat_minor": 2
}
